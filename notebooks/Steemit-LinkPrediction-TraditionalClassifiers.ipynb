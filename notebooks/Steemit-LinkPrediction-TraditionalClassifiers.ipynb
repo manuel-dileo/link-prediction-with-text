{
 "cells": [
  {
   "cell_type": "markdown",
   "metadata": {},
   "source": [
    "# Libraries"
   ]
  },
  {
   "cell_type": "code",
   "execution_count": null,
   "metadata": {},
   "outputs": [],
   "source": [
    "import pandas as pd\n",
    "import numpy as np\n",
    "import math\n",
    "from math import log\n",
    "from sklearn.utils import shuffle\n",
    "import matplotlib.pyplot as plt\n",
    "import seaborn as sns\n",
    "import networkx as nx\n",
    "from sklearn.preprocessing import MinMaxScaler,StandardScaler\n",
    "from sklearn.metrics import f1_score\n",
    "import sys"
   ]
  },
  {
   "cell_type": "markdown",
   "metadata": {},
   "source": [
    "# Lettura"
   ]
  },
  {
   "cell_type": "code",
   "execution_count": null,
   "metadata": {},
   "outputs": [],
   "source": [
    "#time interval used in our works\n",
    "time_slices = {\n",
    "    0: {\n",
    "        'future_start': '2016-07-03',\n",
    "        'future_end': '2016-08-02',\n",
    "        'start' : '2016-06-03',\n",
    "        'end': '2016-07-02'\n",
    "    },\n",
    "    \n",
    "    1: {\n",
    "        'future_start': '2016-08-03',\n",
    "        'future_end': '2016-09-02',\n",
    "        'start': '2016-07-03',\n",
    "        'end': '2016-08-02'\n",
    "    },\n",
    "    \n",
    "    2:{\n",
    "        'future_start': '2016-09-03',\n",
    "        'future_end': '2016-10-02',\n",
    "        'start': '2016-08-03',\n",
    "        'end': '2016-09-02'\n",
    "    },\n",
    "    \n",
    "    3:{\n",
    "        'future_start': '2016-10-03',\n",
    "        'future_end': '2016-11-02',\n",
    "        'start': '2016-09-03',\n",
    "        'end': '2016-10-02'\n",
    "    }\n",
    "}"
   ]
  },
  {
   "cell_type": "markdown",
   "metadata": {},
   "source": [
    "time_slices = {\n",
    "    0: {\n",
    "        'future_start': '2016-12-01',\n",
    "        'future_end': '2016-12-31',\n",
    "        'start' : '2016-11-01',\n",
    "        'end': '2016-11-30'\n",
    "    },\n",
    "    \n",
    "    1: {\n",
    "        'future_start': '2017-01-01',\n",
    "        'future_end': '2017-01-31',\n",
    "        'start': '2016-12-01',\n",
    "        'end': '2016-12-31'\n",
    "    }\n",
    "}"
   ]
  },
  {
   "cell_type": "code",
   "execution_count": null,
   "metadata": {},
   "outputs": [],
   "source": [
    "PERIOD = 1\n",
    "SINGLE_SLICE = False\n",
    "INCREMENTAL_SETTING = False\n",
    "LABEL_EXP = \"AllUserIntervalAugust2016\"\n",
    "K = 30 #num_topic\n",
    "ftest = 'train' if INCREMENTAL_SETTING else 'test'"
   ]
  },
  {
   "cell_type": "code",
   "execution_count": null,
   "metadata": {},
   "outputs": [],
   "source": [
    "future_start = time_slices[PERIOD]['future_start']\n",
    "future_end = time_slices[PERIOD]['future_end']\n",
    "#start = time_slices[PERIOD]['start']\n",
    "#end = time_slices[PERIOD]['end']\n",
    "\n",
    "start_test = time_slices[PERIOD+1]['future_start']\n",
    "end_test = time_slices[PERIOD+1]['future_end']"
   ]
  },
  {
   "cell_type": "code",
   "execution_count": null,
   "metadata": {},
   "outputs": [],
   "source": [
    "ftrain = 'train' + ('_single' if SINGLE_SLICE else '')"
   ]
  },
  {
   "cell_type": "code",
   "execution_count": null,
   "metadata": {},
   "outputs": [],
   "source": [
    "train = pd.read_csv(\"%s/sim_%s_%s_%s\" % ('../dummy-data/traditional/',ftrain, future_start, future_end), index_col=0)"
   ]
  },
  {
   "cell_type": "code",
   "execution_count": null,
   "metadata": {},
   "outputs": [],
   "source": [
    "train = train.dropna() #Double check isolates and self loops"
   ]
  },
  {
   "cell_type": "code",
   "execution_count": null,
   "metadata": {},
   "outputs": [],
   "source": [
    "#len(train), len(train[train['ldaAll_0_from'] == 0]), len(train[train['ldaAll_0_to'] == 0])"
   ]
  },
  {
   "cell_type": "code",
   "execution_count": null,
   "metadata": {},
   "outputs": [],
   "source": [
    "len(train[train['y']==0]),len(train[train['y']==1])"
   ]
  },
  {
   "cell_type": "code",
   "execution_count": null,
   "metadata": {},
   "outputs": [],
   "source": [
    "#train = train.loc[~((train['ldaAll_0_from'] == 0) | (train['ldaAll_0_to'] == 0))]"
   ]
  },
  {
   "cell_type": "code",
   "execution_count": null,
   "metadata": {},
   "outputs": [],
   "source": [
    "len(train)"
   ]
  },
  {
   "cell_type": "code",
   "execution_count": null,
   "metadata": {},
   "outputs": [],
   "source": [
    "\"\"\"\n",
    "struct_f = ['comm_neigh', 'jaccard_coef', 'adamic_adar', \\\n",
    "            'res_allocation', 'pref_attachment','pagerank_from','pagerank_to',\\\n",
    "            'neigh_degree_from','neigh_degree_to','katz_from','katz_to','lrw','in_degree_from','in_degree_to',\\\n",
    "           'out_degree_from','out_degree_to']\n",
    "\n",
    "text_f = ['tag_jaccard_coef','avg_post_length_from','avg_post_length_to','std_post_length_from','std_post_length_to',\\\n",
    "          'num_post_from',\\\n",
    "       'num_post_to','num_comment_from','num_comment_to','num_tag_from','num_tag_to'] \\\n",
    "        + ['ldaAll_{}_from'.format(i) for i in range(K)] + ['ldaAll_{}_to'.format(i) for i in range(K)]\\\n",
    "        + ['ldaComment_{}_from'.format(i) for i in range(K)] + ['ldaComment_{}_to'.format(i) for i in range(K)]\\\n",
    "        + ['kl_ldaAll','kl_ldaComment']\n",
    "        \n",
    "\"\"\" #OLD FEATURES"
   ]
  },
  {
   "cell_type": "code",
   "execution_count": null,
   "metadata": {},
   "outputs": [],
   "source": [
    "struct_f = ['comm_neigh', 'jaccard_coef', 'adamic_adar', \\\n",
    "            'res_allocation', 'pref_attachment','pagerank_from','pagerank_to',\\\n",
    "            'neigh_degree_from','neigh_degree_to','katz_from','katz_to','lrw','in_degree_from','in_degree_to',\\\n",
    "           'out_degree_from','out_degree_to']\n",
    "\n",
    "text_f = ['tag_jaccard_coef','avg_post_length_from','avg_post_length_to','std_post_length_from','std_post_length_to',\\\n",
    "          'num_post_from',\\\n",
    "       'num_post_to','num_comment_from','num_comment_to','num_tag_from','num_tag_to'] \\\n",
    "        + ['euclidean_dist_all','cosine_dist_all','chebyshev_dist_all','jaccard_dist_all']\\\n",
    "        + ['euclidean_dist_comment','cosine_dist_comment','chebyshev_dist_comment','jaccard_dist_comment']"
   ]
  },
  {
   "cell_type": "code",
   "execution_count": null,
   "metadata": {},
   "outputs": [],
   "source": [
    "#SOME CHECKS\n",
    "#np.isinf(train[[col for col in train.columns if 'kl' in col]]).any()"
   ]
  },
  {
   "cell_type": "code",
   "execution_count": null,
   "metadata": {},
   "outputs": [],
   "source": [
    "#np.isinf(train[[col for col in train.columns if 'kl' in col]]).sum()"
   ]
  },
  {
   "cell_type": "code",
   "execution_count": null,
   "metadata": {},
   "outputs": [],
   "source": [
    "#train = train.drop(['kl_ldaAll','kl_ldaComment'],axis=1)"
   ]
  },
  {
   "cell_type": "code",
   "execution_count": null,
   "metadata": {},
   "outputs": [],
   "source": [
    "scaler = StandardScaler()\n",
    "#scaler = MinMaxScaler()\n",
    "#LABEL_EXP += 'MinMax'\n",
    "toScale = list(train.drop(['from','to','y'],axis=1).columns)\n",
    "train[toScale] = scaler.fit_transform(train[toScale].values)"
   ]
  },
  {
   "cell_type": "code",
   "execution_count": null,
   "metadata": {},
   "outputs": [],
   "source": [
    "#CHOOSE THE COMBINATION OF FEATURES\n",
    "\n",
    "train = train[['from','to','y'] + text_f]\n",
    "#train = train[['from','to','y'] + struct_f]\n",
    "LABEL_EXP += 'Text'\n",
    "#LABEL_EXP += 'Struct'\n",
    "#feature_sel = [f for f in train.columns if 'to' not in f.lower() and 'from' not in f.lower() and 'y' not in f.lower()]\n",
    "#train = train[['from','to','y'] + feature_sel]\n",
    "#LABEL_EXP += 'StrictlySim'"
   ]
  },
  {
   "cell_type": "code",
   "execution_count": null,
   "metadata": {},
   "outputs": [],
   "source": [
    "#LABEL_EXP += 'StructText'"
   ]
  },
  {
   "cell_type": "code",
   "execution_count": null,
   "metadata": {},
   "outputs": [],
   "source": [
    "\"\"\"\n",
    "LABEL_EXP = LABEL_EXP + \"CommentFromSelectionClassic\"\n",
    "featureSel = [f for f in text_f if 'comment' in f.lower() and 'from' in f and 'num' not in f] + [f for f in text_f if 'lda' not in f.lower()]\n",
    "train = train[['from','to','y']+ struct_f + featureSel]\n",
    "\"\"\""
   ]
  },
  {
   "cell_type": "markdown",
   "metadata": {},
   "source": [
    "## Models "
   ]
  },
  {
   "cell_type": "code",
   "execution_count": null,
   "metadata": {},
   "outputs": [],
   "source": [
    "from sklearn.ensemble import RandomForestClassifier\n",
    "\n",
    "from sklearn.model_selection import train_test_split\n",
    "from sklearn.model_selection import cross_validate\n",
    "from sklearn.experimental import enable_hist_gradient_boosting  \n",
    "\n",
    "from sklearn.ensemble import GradientBoostingClassifier\n",
    "\n",
    "from sklearn.linear_model import LogisticRegression\n",
    "\n",
    "from sklearn.neural_network import MLPClassifier\n",
    "\n",
    "from sklearn.dummy import DummyClassifier\n",
    "\n",
    "from sklearn import svm\n",
    "\n",
    "from sklearn.naive_bayes import GaussianNB\n",
    "\n",
    "from sklearn.linear_model import Perceptron\n",
    "\n",
    "from sklearn.dummy import DummyClassifier\n",
    "\n",
    "from sklearn.metrics import accuracy_score\n",
    "from sklearn.metrics import confusion_matrix\n",
    "from sklearn.metrics import classification_report\n",
    "from sklearn.metrics import roc_auc_score"
   ]
  },
  {
   "cell_type": "code",
   "execution_count": null,
   "metadata": {},
   "outputs": [],
   "source": [
    "x_train, x_test, y_train, y_test = train_test_split(train.drop(['from','to','y'],axis=1), train[['y']], train_size = 0.75)"
   ]
  },
  {
   "cell_type": "code",
   "execution_count": null,
   "metadata": {},
   "outputs": [],
   "source": [
    "test = pd.read_csv(\"../dummy-data/traditional/sim_%s_%s_%s\" % (ftest, start_test, end_test), index_col=0)"
   ]
  },
  {
   "cell_type": "code",
   "execution_count": null,
   "metadata": {},
   "outputs": [],
   "source": [
    "test = test.dropna()"
   ]
  },
  {
   "cell_type": "code",
   "execution_count": null,
   "metadata": {},
   "outputs": [],
   "source": [
    "#len(test), len(test[test['ldaAll_0_from'] == 0]), len(test[test['ldaAll_0_to'] == 0])"
   ]
  },
  {
   "cell_type": "code",
   "execution_count": null,
   "metadata": {},
   "outputs": [],
   "source": [
    "len(test[test['y']==0]),len(test[test['y']==1])"
   ]
  },
  {
   "cell_type": "code",
   "execution_count": null,
   "metadata": {},
   "outputs": [],
   "source": [
    "#test = test.loc[~((test['ldaAll_0_from'] == 0) | (test['ldaAll_0_to'] == 0))]"
   ]
  },
  {
   "cell_type": "code",
   "execution_count": null,
   "metadata": {},
   "outputs": [],
   "source": [
    "len(test)"
   ]
  },
  {
   "cell_type": "code",
   "execution_count": null,
   "metadata": {},
   "outputs": [],
   "source": [
    "test = test[['from','to','y'] + struct_f + text_f ] #filter old dataset"
   ]
  },
  {
   "cell_type": "code",
   "execution_count": null,
   "metadata": {},
   "outputs": [],
   "source": [
    "#np.isinf(test[[col for col in test.columns if 'kl' in col]]).any()"
   ]
  },
  {
   "cell_type": "code",
   "execution_count": null,
   "metadata": {},
   "outputs": [],
   "source": [
    "#test = test.drop(['kl_ldaAll','kl_ldaComment'],axis=1)"
   ]
  },
  {
   "cell_type": "code",
   "execution_count": null,
   "metadata": {},
   "outputs": [],
   "source": [
    "test[toScale] = scaler.fit_transform(test[toScale])"
   ]
  },
  {
   "cell_type": "code",
   "execution_count": null,
   "metadata": {},
   "outputs": [],
   "source": [
    "#CHOOSE THE SAME CONFIG OF FEATURES OF TRAIN SET\n",
    "\n",
    "#test = test.drop([f for f in text_f if f in test.columns],axis=1)\n",
    "#test = test.drop(struct_f,axis=1)\n",
    "#test = test.drop(text_to_f,axis=1)\n",
    "#test = test[['from','to','y']+ struct_f]\n",
    "test = test[['from','to','y']+ text_f]\n",
    "#test = test[['from','to','y']+ feature_sel]"
   ]
  },
  {
   "cell_type": "markdown",
   "metadata": {},
   "source": [
    "# Dummy"
   ]
  },
  {
   "cell_type": "code",
   "execution_count": null,
   "metadata": {},
   "outputs": [],
   "source": [
    "dummy = DummyClassifier(strategy='uniform')\n",
    "dummy.fit(x_train, y_train.values.ravel())"
   ]
  },
  {
   "cell_type": "code",
   "execution_count": null,
   "metadata": {},
   "outputs": [],
   "source": [
    "print('Test')\n",
    "dummy_pred = dummy.predict(test.drop(['from','to','y'],axis=1))\n",
    "acc_dummy = accuracy_score(test['y'], dummy_pred)\n",
    "f1_dummy = f1_score(test['y'],dummy_pred)\n",
    "print(f1_dummy)\n",
    "print(acc_dummy)\n",
    "print(confusion_matrix(test['y'], dummy_pred))\n",
    "print(classification_report(test['y'], dummy_pred))"
   ]
  },
  {
   "cell_type": "markdown",
   "metadata": {},
   "source": [
    "###  Gradient boosting"
   ]
  },
  {
   "cell_type": "code",
   "execution_count": null,
   "metadata": {},
   "outputs": [],
   "source": [
    "#it takes a bit\n",
    "boost_cl = GradientBoostingClassifier(learning_rate=0.001,max_depth=5,n_estimators=1000)\n",
    "boost_cl.fit(x_train, y_train.values.ravel())"
   ]
  },
  {
   "cell_type": "code",
   "execution_count": null,
   "metadata": {},
   "outputs": [],
   "source": [
    "print('GB')\n",
    "print('Train')\n",
    "boost_pred = boost_cl.predict(x_train)\n",
    "print(f1_score(y_train,boost_pred))\n",
    "print(accuracy_score(y_train, boost_pred))\n",
    "print(confusion_matrix(y_train, boost_pred))"
   ]
  },
  {
   "cell_type": "code",
   "execution_count": null,
   "metadata": {},
   "outputs": [],
   "source": [
    "print('Val')\n",
    "boost_pred = boost_cl.predict(x_test)\n",
    "print(f1_score(y_test,boost_pred))\n",
    "print(accuracy_score(y_test, boost_pred))\n",
    "print(confusion_matrix(y_test, boost_pred))\n",
    "print(classification_report(y_test, boost_pred))"
   ]
  },
  {
   "cell_type": "code",
   "execution_count": null,
   "metadata": {
    "scrolled": true
   },
   "outputs": [],
   "source": [
    "# On test set\n",
    "print('Test')\n",
    "boost_pred = boost_cl.predict(test.drop(['from','to','y'],axis=1))\n",
    "acc_gradient= accuracy_score(test['y'], boost_pred)\n",
    "f1_gradient = f1_score(test['y'],boost_pred)\n",
    "print(f1_gradient)\n",
    "print(acc_gradient)\n",
    "print(confusion_matrix(test['y'], boost_pred))\n",
    "print(classification_report(test['y'], boost_pred))"
   ]
  },
  {
   "cell_type": "code",
   "execution_count": null,
   "metadata": {},
   "outputs": [],
   "source": [
    "#fare shuffle\n",
    "#train_cv = shuffle(train)\n",
    "#cv_results= cross_validate(boost_cl,train_cv.drop(['from','to','y'],axis=1), train_cv[['y']].values.ravel(), cv=5, scoring='accuracy')"
   ]
  },
  {
   "cell_type": "code",
   "execution_count": null,
   "metadata": {},
   "outputs": [],
   "source": [
    "#print(cv_results['test_score'])\n",
    "#print(np.mean(cv_results['test_score']))\n",
    "#print(np.std(cv_results['test_score']))"
   ]
  },
  {
   "cell_type": "code",
   "execution_count": null,
   "metadata": {},
   "outputs": [],
   "source": [
    "FILTER_TOP = 20"
   ]
  },
  {
   "cell_type": "code",
   "execution_count": null,
   "metadata": {},
   "outputs": [],
   "source": [
    "import os\n",
    "try:\n",
    "    os.mkdir(\"results{}\".format(LABEL_EXP))\n",
    "except FileExistsError: pass"
   ]
  },
  {
   "cell_type": "code",
   "execution_count": null,
   "metadata": {},
   "outputs": [],
   "source": [
    "import matplotlib.ticker as mtick\n",
    "\n",
    "f_imp = pd.DataFrame({'feature':x_train.columns,\\\n",
    "                      'importance':boost_cl.feature_importances_})\\\n",
    "             .sort_values(by='importance',ascending=False)[:FILTER_TOP]\n",
    "plt.figure(figsize=(10, 7))\n",
    "plt.title(\"Gradient Boosting Feature importances\")\n",
    "plt.barh(range(FILTER_TOP), f_imp.importance, 0.5 ,color='#ffcc99', ec='#ff8000', align=\"center\")\n",
    "plt.yticks(range(FILTER_TOP),f_imp.feature)\n",
    "plt.ylim([-1,FILTER_TOP])\n",
    "\n",
    "plt.savefig(\"%s_%s_%s.pdf\" % ('results{}/GB_acc'.format(LABEL_EXP),future_start,future_end),bbox_inches='tight') \n",
    "plt.show();"
   ]
  },
  {
   "cell_type": "markdown",
   "metadata": {},
   "source": [
    "### SVM (features importance available only for linear kernel)"
   ]
  },
  {
   "cell_type": "code",
   "execution_count": null,
   "metadata": {},
   "outputs": [],
   "source": [
    "svm_cl = svm.SVC(kernel='rbf',C=0.01)\n",
    "svm_cl.fit(x_train,y_train.values.ravel())"
   ]
  },
  {
   "cell_type": "code",
   "execution_count": null,
   "metadata": {},
   "outputs": [],
   "source": [
    "print('SVM')\n",
    "print('Train')\n",
    "svm_pred = svm_cl.predict(x_train)\n",
    "print(f1_score(y_train,svm_pred))\n",
    "print(accuracy_score(y_train,svm_pred))\n",
    "print(confusion_matrix(y_train,svm_pred))"
   ]
  },
  {
   "cell_type": "code",
   "execution_count": null,
   "metadata": {},
   "outputs": [],
   "source": [
    "print('Val')\n",
    "svm_pred = svm_cl.predict(x_test)\n",
    "print(f1_score(y_test,svm_pred))\n",
    "print(accuracy_score(y_test,svm_pred))\n",
    "print(confusion_matrix(y_test,svm_pred))\n",
    "print(classification_report(y_test,svm_pred))"
   ]
  },
  {
   "cell_type": "code",
   "execution_count": null,
   "metadata": {},
   "outputs": [],
   "source": [
    "print('Test')\n",
    "svm_pred = svm_cl.predict(test.drop(['from','to','y'],axis=1))\n",
    "acc_svm = accuracy_score(test['y'], svm_pred)\n",
    "f1_svm = f1_score(test['y'],svm_pred)\n",
    "print(f1_svm)\n",
    "print(acc_svm)\n",
    "print(confusion_matrix(test['y'], svm_pred))\n",
    "print(classification_report(test['y'], svm_pred))"
   ]
  },
  {
   "cell_type": "markdown",
   "metadata": {},
   "source": [
    "def f_importances(coef, names):\n",
    "    imp = coef\n",
    "    imp,names = zip(*sorted(zip(imp,names)))\n",
    "    plt.barh(range(len(names)), imp, align='center')\n",
    "    plt.yticks(range(len(names)), names)\n",
    "    plt.show()\n",
    "\n",
    "features_names = list(train.iloc[:,3:])\n",
    "f_importances(svm_cl.coef_, features_names)"
   ]
  },
  {
   "cell_type": "markdown",
   "metadata": {},
   "source": [
    "### Random Forest "
   ]
  },
  {
   "cell_type": "code",
   "execution_count": null,
   "metadata": {},
   "outputs": [],
   "source": [
    "ran_for = RandomForestClassifier(bootstrap=False,max_depth=10,max_features='sqrt',min_samples_leaf=4,min_samples_split=5,n_estimators=5)\n",
    "ran_for.fit(x_train,y_train.values.ravel())"
   ]
  },
  {
   "cell_type": "code",
   "execution_count": null,
   "metadata": {
    "scrolled": true
   },
   "outputs": [],
   "source": [
    "print('RF')\n",
    "print('Train')\n",
    "rf_pred = ran_for.predict(x_train)\n",
    "print(f1_score(y_train,rf_pred))\n",
    "print(accuracy_score(y_train,rf_pred))\n",
    "print(confusion_matrix(y_train, rf_pred))"
   ]
  },
  {
   "cell_type": "code",
   "execution_count": null,
   "metadata": {
    "scrolled": true
   },
   "outputs": [],
   "source": [
    "print('Val')\n",
    "rf_pred = ran_for.predict(x_test)\n",
    "print(f1_score(y_test,rf_pred))\n",
    "print(accuracy_score(y_test,rf_pred))\n",
    "print(confusion_matrix(y_test,rf_pred))\n",
    "print(classification_report(y_test,rf_pred))"
   ]
  },
  {
   "cell_type": "code",
   "execution_count": null,
   "metadata": {},
   "outputs": [],
   "source": [
    "print('Test')\n",
    "rf_pred = ran_for.predict(test.drop(['from','to','y'],axis=1))\n",
    "acc_rforest= accuracy_score(test['y'],rf_pred)\n",
    "f1_rforest = f1_score(test['y'],rf_pred)\n",
    "print(f1_rforest)\n",
    "print(acc_rforest)\n",
    "print(confusion_matrix(test['y'], rf_pred))\n",
    "print(classification_report(test['y'], rf_pred))"
   ]
  },
  {
   "cell_type": "code",
   "execution_count": null,
   "metadata": {},
   "outputs": [],
   "source": [
    "features_imp = pd.DataFrame({'feature':x_train.columns,'importance':ran_for.feature_importances_})\\\n",
    "                .sort_values(by='importance',ascending=False)[:FILTER_TOP]\n",
    "plt.figure(figsize=(10, 7))\n",
    "plt.title(\"Random Forest Feature importances\")\n",
    "plt.barh(range(FILTER_TOP), features_imp.importance, 0.5 ,color='#ffcc99', ec='#ff8000', align=\"center\")\n",
    "plt.yticks(range(FILTER_TOP),features_imp.feature)\n",
    "plt.ylim([-1, FILTER_TOP])\n",
    "   \n",
    "plt.savefig(\"%s_%s_%s.pdf\" % ('results{}/rfor_acc'.format(LABEL_EXP),future_start,future_end),bbox_inches='tight')\n",
    "\n",
    "plt.show()"
   ]
  },
  {
   "cell_type": "markdown",
   "metadata": {},
   "source": [
    "### Logistic Regression"
   ]
  },
  {
   "cell_type": "code",
   "execution_count": null,
   "metadata": {},
   "outputs": [],
   "source": [
    "log_reg = LogisticRegression(solver='lbfgs',penalty='l2',C=1e-05)\n",
    "log_reg.fit(x_train,y_train.values.ravel())"
   ]
  },
  {
   "cell_type": "code",
   "execution_count": null,
   "metadata": {
    "scrolled": true
   },
   "outputs": [],
   "source": [
    "print('LogReg')\n",
    "print('Train')\n",
    "lr_pred = log_reg.predict(x_train)\n",
    "print(f1_score(y_train,lr_pred))\n",
    "print(accuracy_score(y_train, lr_pred))\n",
    "print(confusion_matrix(y_train, lr_pred))"
   ]
  },
  {
   "cell_type": "code",
   "execution_count": null,
   "metadata": {},
   "outputs": [],
   "source": [
    "print('Val')\n",
    "lr_pred = log_reg.predict(x_test)\n",
    "print(f1_score(y_test,lr_pred))\n",
    "print(accuracy_score(y_test,lr_pred))\n",
    "print(confusion_matrix(y_test,lr_pred))\n",
    "print(classification_report(y_test,lr_pred))"
   ]
  },
  {
   "cell_type": "code",
   "execution_count": null,
   "metadata": {},
   "outputs": [],
   "source": [
    "print('Test')\n",
    "lr_pred = log_reg.predict(test.drop(['from','to','y'],axis=1))\n",
    "acc_logit = accuracy_score(test['y'], lr_pred)\n",
    "f1_logit = f1_score(test['y'],lr_pred)\n",
    "print(f1_logit)\n",
    "print(acc_logit)\n",
    "print(confusion_matrix(test['y'], lr_pred))\n",
    "print(classification_report(test['y'], lr_pred))"
   ]
  },
  {
   "cell_type": "code",
   "execution_count": null,
   "metadata": {},
   "outputs": [],
   "source": [
    "feat_imp = pd.DataFrame(x_train.columns, columns=['feature'])\n",
    "feat_imp['importance'] = log_reg.coef_[0]\n",
    "feat_imp = feat_imp.sort_values(by='importance', ascending=False)"
   ]
  },
  {
   "cell_type": "code",
   "execution_count": null,
   "metadata": {},
   "outputs": [],
   "source": [
    "plt.figure(figsize=(10, 7))\n",
    "plt.title(\"Logistic Regression Feature importances\")\n",
    "plt.barh(range(FILTER_TOP), feat_imp.importance[:FILTER_TOP], 0.5 ,color='#ffcc99', ec='#ff8000', align=\"center\")\n",
    "plt.yticks(range(FILTER_TOP),feat_imp.feature[:FILTER_TOP])\n",
    "plt.ylim([-1, FILTER_TOP])\n",
    "\n",
    "\n",
    "plt.savefig(\"%s_%s_%s.pdf\" % ('results{}/logit_acc'.format(LABEL_EXP),future_start,future_end),bbox_inches='tight')\n",
    "plt.show();"
   ]
  },
  {
   "cell_type": "code",
   "execution_count": null,
   "metadata": {},
   "outputs": [],
   "source": [
    "from sklearn import metrics\n",
    "y_pred_proba = log_reg.predict_proba(x_test)[::,1]\n",
    "fpr, tpr, _ = metrics.roc_curve(y_test,  y_pred_proba)\n",
    "auc = metrics.roc_auc_score(y_test, y_pred_proba)\n",
    "plt.plot(fpr,tpr,label=\"data 1, auc=\"+str(auc))\n",
    "plt.legend(loc=4)\n",
    "plt.show()"
   ]
  },
  {
   "cell_type": "markdown",
   "metadata": {},
   "source": [
    "### XGBOOST "
   ]
  },
  {
   "cell_type": "code",
   "execution_count": null,
   "metadata": {},
   "outputs": [],
   "source": [
    "import xgboost as xgb\n",
    "from xgboost import XGBClassifier"
   ]
  },
  {
   "cell_type": "code",
   "execution_count": null,
   "metadata": {},
   "outputs": [],
   "source": [
    "xg_class= XGBClassifier(objective='binary:logistic', eval_metric='logloss',gamma=5,learning_rate=0.001,max_depth=3,min_child_weight=1,n_estimators=1000)\n",
    "xg_class.fit(x_train,y_train.values.ravel())"
   ]
  },
  {
   "cell_type": "code",
   "execution_count": null,
   "metadata": {},
   "outputs": [],
   "source": [
    "print('XGB')\n",
    "print('Train')\n",
    "xg_pred = xg_class.predict(x_train)\n",
    "print(f1_score(y_train,xg_pred))\n",
    "print(accuracy_score(y_train,xg_pred))\n",
    "print(confusion_matrix(y_train, xg_pred))\n",
    "print(classification_report(y_train, xg_pred))"
   ]
  },
  {
   "cell_type": "code",
   "execution_count": null,
   "metadata": {},
   "outputs": [],
   "source": [
    "print('Val')\n",
    "xg_pred = xg_class.predict(x_test)\n",
    "print(f1_score(y_test,xg_pred))\n",
    "print(accuracy_score(y_test,xg_pred))\n",
    "print(confusion_matrix(y_test, xg_pred))\n",
    "print(classification_report(y_test, xg_pred))"
   ]
  },
  {
   "cell_type": "code",
   "execution_count": null,
   "metadata": {},
   "outputs": [],
   "source": [
    "print('Test')\n",
    "xg_pred = xg_class.predict(test.drop(['from','to','y'],axis=1))\n",
    "acc_xgb = accuracy_score(test['y'], xg_pred)\n",
    "f1_xgb = f1_score(test['y'],xg_pred)\n",
    "print(f1_xgb)\n",
    "print(acc_xgb)\n",
    "print(confusion_matrix(test['y'], xg_pred))\n",
    "print(classification_report(test['y'], xg_pred))"
   ]
  },
  {
   "cell_type": "code",
   "execution_count": null,
   "metadata": {},
   "outputs": [],
   "source": [
    "xgb.plot_importance(xg_class)\n",
    "plt.savefig(\"%s_%s_%s.pdf\" % ('results{}/xgb_acc'.format(LABEL_EXP),future_start,future_end),bbox_inches='tight')"
   ]
  },
  {
   "cell_type": "code",
   "execution_count": null,
   "metadata": {},
   "outputs": [],
   "source": [
    "xgb.plot_tree(xg_class, num_trees=4);"
   ]
  },
  {
   "cell_type": "raw",
   "metadata": {},
   "source": [
    "importance_type\n",
    "    ‘weight’ - the number of times a feature is used to split the data across all trees.\n",
    "    ‘gain’ - the average gain across all splits the feature is used in.\n",
    "    ‘cover’ - the average coverage across all splits the feature is used in.\n",
    "    ‘total_gain’ - the total gain across all splits the feature is used in.\n",
    "    ‘total_cover’ - the total coverage across all splits the feature is used in."
   ]
  },
  {
   "cell_type": "code",
   "execution_count": null,
   "metadata": {},
   "outputs": [],
   "source": [
    "sorted(list(xg_class.get_booster().get_score(importance_type=\"weight\").items()),key=lambda x: x[1],reverse=True)[:20]"
   ]
  },
  {
   "cell_type": "markdown",
   "metadata": {},
   "source": [
    "### MLP"
   ]
  },
  {
   "cell_type": "code",
   "execution_count": null,
   "metadata": {},
   "outputs": [],
   "source": [
    "mlp = MLPClassifier(hidden_layer_sizes=(16,),solver='sgd',alpha=1)\n",
    "mlp.fit(x_train,y_train.values.ravel())"
   ]
  },
  {
   "cell_type": "code",
   "execution_count": null,
   "metadata": {},
   "outputs": [],
   "source": [
    "print('MLP')\n",
    "print('Train')\n",
    "mlp_pred = mlp.predict(x_train)\n",
    "print(f1_score(y_train,mlp_pred))\n",
    "print(accuracy_score(y_train, mlp_pred))\n",
    "print(confusion_matrix(y_train, mlp_pred))"
   ]
  },
  {
   "cell_type": "code",
   "execution_count": null,
   "metadata": {},
   "outputs": [],
   "source": [
    "print('Val')\n",
    "mlp_pred = mlp.predict(x_test)\n",
    "print(f1_score(y_test,mlp_pred))\n",
    "print(accuracy_score(y_test,mlp_pred))\n",
    "print(confusion_matrix(y_test, mlp_pred))\n",
    "print(classification_report(y_test, mlp_pred))"
   ]
  },
  {
   "cell_type": "code",
   "execution_count": null,
   "metadata": {},
   "outputs": [],
   "source": [
    "print('Test')\n",
    "mlp_pred = mlp.predict(test.drop(['from','to','y'],axis=1))\n",
    "acc_mlp = accuracy_score(test['y'], mlp_pred)\n",
    "f1_mlp = f1_score(test['y'],mlp_pred)\n",
    "print(f1_mlp)\n",
    "print(acc_mlp)\n",
    "print(confusion_matrix(test['y'], mlp_pred))\n",
    "print(classification_report(test['y'], mlp_pred))"
   ]
  },
  {
   "cell_type": "code",
   "execution_count": null,
   "metadata": {},
   "outputs": [],
   "source": [
    "with open('results{}/results{}.txt'.format(LABEL_EXP,LABEL_EXP),'a+') as r:\n",
    "    r.write(LABEL_EXP+'\\n')\n",
    "    r.write('F1 scores\\n')\n",
    "    r.write('GB: ' + str(f1_gradient) + '\\n')\n",
    "    r.write('SVM: ' + str(f1_svm) +'\\n')\n",
    "    r.write('NB: ' + str(f1_bayes) +'\\n')\n",
    "    r.write('RF: ' + str(f1_rforest)+'\\n')\n",
    "    r.write('LR: ' + str(f1_logit)+'\\n')\n",
    "    r.write('XGB: ' + str(f1_xgb)+'\\n')\n",
    "    r.write('MLP: '+str(f1_mlp)+'\\n')\n",
    "    r.close()"
   ]
  }
 ],
 "metadata": {
  "kernelspec": {
   "display_name": "Python 3 (ipykernel)",
   "language": "python",
   "name": "python3"
  },
  "language_info": {
   "codemirror_mode": {
    "name": "ipython",
    "version": 3
   },
   "file_extension": ".py",
   "mimetype": "text/x-python",
   "name": "python",
   "nbconvert_exporter": "python",
   "pygments_lexer": "ipython3",
   "version": "3.8.10"
  }
 },
 "nbformat": 4,
 "nbformat_minor": 4
}
